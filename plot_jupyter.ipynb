{
 "cells": [
  {
   "cell_type": "code",
   "execution_count": 1,
   "metadata": {},
   "outputs": [],
   "source": [
    "import matplotlib.pyplot as plt\n",
    "from audio_analysis import AudioAnalysis\n",
    "\n",
    "plt.rcParams['figure.figsize'] = (11.8, 4.4)\n",
    "plt.rcParams['axes.labelsize'] = 32\n",
    "plt.rcParams['xtick.labelsize'] = 30\n",
    "plt.rcParams['ytick.labelsize'] = 30\n",
    "plt.rcParams['font.family'] = 'cmr12'\n",
    "plt.rcParams['text.usetex'] = True\n",
    "\n"
   ]
  },
  {
   "cell_type": "code",
   "execution_count": null,
   "metadata": {},
   "outputs": [],
   "source": [
    "input_file_path = \"backup/cqt_example.bkp\"\n",
    "analysis = AudioAnalysis.from_file(input_file_path)\n",
    "analysis.plot()\n",
    "#handlers[i][1].set(yticks=[128, 512, 2048])"
   ]
  },
  {
   "cell_type": "code",
   "execution_count": null,
   "metadata": {},
   "outputs": [],
   "source": [
    "input_file_path = \"backup/stft_uncertainty_example.bkp\"\n",
    "analysis = AudioAnalysis.from_file(input_file_path)\n",
    "analysis.plot()\n",
    "#handlers[i][1].set(xticks=[0, 0.15, 0.30, 0.45, 0.60, 0.75, 0.90])\n",
    "#handlers[i][1].set(xticklabels=[\"0\", \"0,15\", \"0,30\", \"0,45\", \"0,60\", \"0,75\", \"0,90\"])"
   ]
  }
 ],
 "metadata": {
  "kernelspec": {
   "display_name": "tfrc",
   "language": "python",
   "name": "python3"
  },
  "language_info": {
   "codemirror_mode": {
    "name": "ipython",
    "version": 3
   },
   "file_extension": ".py",
   "mimetype": "text/x-python",
   "name": "python",
   "nbconvert_exporter": "python",
   "pygments_lexer": "ipython3",
   "version": "3.7.13"
  },
  "orig_nbformat": 4,
  "vscode": {
   "interpreter": {
    "hash": "0dc61c0f081ba1e4565a4ce8944931f49551cdcd90bf54ea64583ee7613449a5"
   }
  }
 },
 "nbformat": 4,
 "nbformat_minor": 2
}
