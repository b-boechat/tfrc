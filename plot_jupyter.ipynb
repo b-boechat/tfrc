{
 "cells": [
  {
   "cell_type": "code",
   "execution_count": null,
   "metadata": {},
   "outputs": [],
   "source": [
    "import matplot.pyplot as plt\n",
    "from audio_analysis import AudioAnalysis"
   ]
  }
 ],
 "metadata": {
  "kernelspec": {
   "display_name": "base",
   "language": "python",
   "name": "python3"
  },
  "language_info": {
   "name": "python",
   "version": "3.9.12 (main, Apr  4 2022, 05:22:27) [MSC v.1916 64 bit (AMD64)]"
  },
  "orig_nbformat": 4,
  "vscode": {
   "interpreter": {
    "hash": "446a7b629ca27b16054539cfcd0bc26640e1996750c99d73a3c9cf275bbe03d4"
   }
  }
 },
 "nbformat": 4,
 "nbformat_minor": 2
}
